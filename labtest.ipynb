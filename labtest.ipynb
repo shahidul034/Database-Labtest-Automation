{
 "cells": [
  {
   "cell_type": "code",
   "execution_count": 3,
   "metadata": {},
   "outputs": [],
   "source": [
    "import cx_Oracle\n",
    "con = cx_Oracle.connect('ss/ss@localhost')\n",
    "mycursor = con.cursor()"
   ]
  },
  {
   "cell_type": "code",
   "execution_count": 8,
   "metadata": {},
   "outputs": [
    {
     "data": {
      "text/plain": [
       "['Create a table that has three columns (name, roll, and cgpa) and set name as the primary key.',\n",
       " 'Insert three rows. value of those rows (a, 12, 7.7), (b, 15, 5.7), and (c, 45, 9.7).',\n",
       " 'Find the Q3']"
      ]
     },
     "execution_count": 8,
     "metadata": {},
     "output_type": "execute_result"
    }
   ],
   "source": []
  },
  {
   "cell_type": "code",
   "execution_count": 193,
   "metadata": {},
   "outputs": [],
   "source": [
    "Ques=open(\"data/ques.txt\",\"r\").read().split(\"\\n\")\n",
    "temp=open(\"data/radio.txt\",\"r\").read().split(\"\\n\")\n",
    "radio_ques=[]\n",
    "for x in temp:\n",
    "    xx=x.split(\"||\")\n",
    "    radio_ques.append(\n",
    "        {\n",
    "            \"question\":xx[0],\n",
    "            \"mcq\":xx[1].split(\";\"),\n",
    "            \"ans\":xx[2]\n",
    "        }\n",
    "    )\n",
    "def question_show(number):\n",
    "    if number>=(len(Ques)+1) and number<=(len(Ques)+len(temp)):\n",
    "        q_num=number-len(Ques)-1\n",
    "        return {\n",
    "            rad:gr.Radio(radio_ques[q_num][\"mcq\"], label=radio_ques[q_num][\"question\"], visible=True,interactive=True),\n",
    "            out: gr.Textbox(visible=False),\n",
    "            inp:gr.Code(label=\"SQL code\",lines=10,visible=False,interactive=True),\n",
    "            lab: gr.Label(visible=False)\n",
    "        }\n",
    "    return {\n",
    "        rad:gr.Radio(visible=False),\n",
    "        out: gr.Textbox(label=\"Question description\",lines=2,visible=True,value=f\"{Ques[int(number)-1]}\"),\n",
    "        inp:gr.Code(label=\"SQL code\",lines=10,visible=True,interactive=True, value=\"\"),\n",
    "        lab: gr.Label(visible=False)\n",
    "    } \n",
    "    "
   ]
  },
  {
   "cell_type": "code",
   "execution_count": 200,
   "metadata": {},
   "outputs": [],
   "source": [
    "def answer_check2(roll,number,sql_code):\n",
    "    try:\n",
    "        mycursor.execute(f''' '\n",
    "        begin\n",
    "        {sql_code}\n",
    "        end;\n",
    "        /\n",
    "        ''')\n",
    "        return True\n",
    "    except:\n",
    "        return False\n",
    "def check_duplicate(roll,number):\n",
    "    temp2=open(\"data/result.txt\",\"r\").read().split(\"\\n\")\n",
    "    for x in temp2:\n",
    "        xx=x.split(\";\")\n",
    "        if str(roll)==str(xx[0]) and str(number)==str(xx[1]):\n",
    "            return True\n",
    "    return False\n"
   ]
  },
  {
   "cell_type": "code",
   "execution_count": 201,
   "metadata": {},
   "outputs": [],
   "source": [
    "def answer_check(roll,number,rad,inp):\n",
    "    print(roll,number,rad,inp)\n",
    "    if check_duplicate(roll,number):\n",
    "        return {\n",
    "                lab: gr.Label(visible=True,elem_id=\"already\",value=\"Already submitted or accepted!!!\")\n",
    "            }\n",
    "    result=open(\"data/result.txt\",\"a\")\n",
    "    if number>=(len(Ques)+1) and number<=(len(Ques)+len(temp)):\n",
    "        q_num=number-len(Ques)-1\n",
    "        if radio_ques[q_num][\"ans\"]==rad:\n",
    "            st=f\"{roll};{number};AC\\n\"\n",
    "            result.write(st)\n",
    "            return {\n",
    "                lab: gr.Label(visible=True,elem_id=\"accepted\",value=\"Submitted\")\n",
    "            }\n",
    "        else:\n",
    "            st=f\"{roll};{number};NAC\\n\"\n",
    "            result.write(st)\n",
    "            return {\n",
    "                lab: gr.Label(visible=True,elem_id=\"accepted\",value=\"Submitted\")\n",
    "            }\n",
    "       \n",
    "        \n",
    "    else:\n",
    "        sql_check=answer_check2(roll,number,inp)\n",
    "        if sql_check:\n",
    "            st=f\"{roll};{number};AC\\n\"\n",
    "            result.write(st)\n",
    "            return {\n",
    "                lab: gr.Label(visible=True,elem_id=\"accepted\",value=\"Accepted\")\n",
    "            }\n",
    "        else:\n",
    "            return {\n",
    "                lab: gr.Label(visible=True,elem_id=\"wrong\",value=\"Wrong\")\n",
    "            }\n",
    "    result.close()\n",
    "        \n",
    "\n",
    "\n",
    "\n",
    "    "
   ]
  },
  {
   "cell_type": "code",
   "execution_count": 199,
   "metadata": {},
   "outputs": [
    {
     "name": "stdout",
     "output_type": "stream",
     "text": [
      "('TEST',)\n",
      "('TEST345',)\n",
      "('TEST356',)\n",
      "('TEST34S5',)\n",
      "('TEST345SD',)\n",
      "('TEST3',)\n",
      "('TEST33',)\n",
      "('SHAKIB34',)\n"
     ]
    },
    {
     "name": "stdout",
     "output_type": "stream",
     "text": [
      "1507034 2 None insert into shakib34 values(\"a\",12,7.7)\n",
      "1507034 2 None insert into shakib34 values('a',12,7.72)\n",
      "1507034 2 None insert into shakib34 values('a',12,7.7)\n",
      "1507034 2 None insert into shakib34 values('a',12,7.7);\n",
      "insert into shakib34 values('b',12,7.7);\n",
      "insert into shakib34 values('c',12,7.7)\n"
     ]
    }
   ],
   "source": [
    "# t=mycursor.execute(\"select table_name from user_tables\")\n",
    "# for x in t:\n",
    "#     print(x)"
   ]
  },
  {
   "cell_type": "code",
   "execution_count": 202,
   "metadata": {},
   "outputs": [
    {
     "name": "stdout",
     "output_type": "stream",
     "text": [
      "Running on local URL:  http://127.0.0.1:8019\n",
      "\n",
      "To create a public link, set `share=True` in `launch()`.\n"
     ]
    },
    {
     "data": {
      "text/html": [
       "<div><iframe src=\"http://127.0.0.1:8019/\" width=\"100%\" height=\"500\" allow=\"autoplay; camera; microphone; clipboard-read; clipboard-write;\" frameborder=\"0\" allowfullscreen></iframe></div>"
      ],
      "text/plain": [
       "<IPython.core.display.HTML object>"
      ]
     },
     "metadata": {},
     "output_type": "display_data"
    },
    {
     "data": {
      "text/plain": []
     },
     "execution_count": 202,
     "metadata": {},
     "output_type": "execute_result"
    },
    {
     "name": "stdout",
     "output_type": "stream",
     "text": [
      "1507036 1 None create table sdfs(roll integer);\n"
     ]
    }
   ],
   "source": [
    "import gradio as gr\n",
    "css = \"\"\"\n",
    "#accepted {background-color: green;align-content: center;font: 30px Arial, sans-serif;}\n",
    "#wrong {background-color: red;align-content: center;font: 30px Arial, sans-serif;}\n",
    "#already {background-color: blue;align-content: center;font: 30px Arial, sans-serif;}\n",
    "\"\"\"\n",
    "with gr.Blocks(css=css) as demo:\n",
    "    gr.Markdown(\n",
    "    \"\"\"\n",
    "    # Database Quiz and Lab test\n",
    "    \"\"\")\n",
    "    with gr.Row():\n",
    "        roll = gr.Number(label=\"Roll number\")\n",
    "    with gr.Row():\n",
    "        ques_show=gr.Dropdown(\n",
    "            [x+1 for x in range(len(Ques)+len(temp))], label=\"Question number\", info=\"Enter your question number\")\n",
    "    with gr.Row():\n",
    "        out = gr.Textbox(label=\"Question description\",lines=1,visible=False)\n",
    "    with gr.Row():\n",
    "        inp=gr.Code(label=\"SQL code\",lines=10,visible=False)\n",
    "        rad=gr.Radio(visible=False)\n",
    "    with gr.Row():    \n",
    "        button = gr.Button(\"Submit\")\n",
    "        lab=gr.Label(visible=False)\n",
    "        ques_show.change(question_show, ques_show, [rad,out,inp,lab])\n",
    "    button.click(answer_check,[roll,ques_show,rad,inp],lab)\n",
    "\n",
    "demo.launch(server_port=8019)"
   ]
  },
  {
   "cell_type": "code",
   "execution_count": 21,
   "metadata": {},
   "outputs": [
    {
     "name": "stdout",
     "output_type": "stream",
     "text": [
      "Running on local URL:  http://127.0.0.1:7913\n",
      "\n",
      "To create a public link, set `share=True` in `launch()`.\n"
     ]
    },
    {
     "data": {
      "text/html": [
       "<div><iframe src=\"http://127.0.0.1:7913/\" width=\"100%\" height=\"500\" allow=\"autoplay; camera; microphone; clipboard-read; clipboard-write;\" frameborder=\"0\" allowfullscreen></iframe></div>"
      ],
      "text/plain": [
       "<IPython.core.display.HTML object>"
      ]
     },
     "metadata": {},
     "output_type": "display_data"
    },
    {
     "data": {
      "text/plain": []
     },
     "execution_count": 21,
     "metadata": {},
     "output_type": "execute_result"
    }
   ],
   "source": [
    "import gradio as gr\n",
    "\n",
    "with gr.Blocks() as demo:\n",
    "    error_box = gr.Textbox(label=\"Error\", visible=False)\n",
    "\n",
    "    name_box = gr.Textbox(label=\"Name\")\n",
    "    age_box = gr.Number(label=\"Age\", minimum=0, maximum=100)\n",
    "    symptoms_box = gr.CheckboxGroup([\"Cough\", \"Fever\", \"Runny Nose\"])\n",
    "    radio=gr.Radio([\"park\", \"zoo\", \"road\"], label=\"Location\", info=\"Where did they go?\",visible=False),\n",
    "    submit_btn = gr.Button(\"Submit\")\n",
    "\n",
    "    with gr.Column(visible=False) as output_col:\n",
    "        diagnosis_box = gr.Textbox(label=\"Diagnosis\")\n",
    "        patient_summary_box = gr.Textbox(label=\"Patient Summary\")\n",
    "\n",
    "    def submit(name, age, symptoms):\n",
    "        if len(name) == 0:\n",
    "            return {error_box: gr.Textbox(value=\"Enter name\", visible=True)}\n",
    "        return {\n",
    "            output_col: gr.Column(visible=True),\n",
    "            diagnosis_box: \"covid\" if \"Cough\" in symptoms else \"flu\",\n",
    "            patient_summary_box: f\"{name}, {age} y/o\",\n",
    "        }\n",
    "\n",
    "    submit_btn.click(\n",
    "        submit,\n",
    "        [name_box, age_box, symptoms_box],\n",
    "        [error_box, diagnosis_box, patient_summary_box, output_col],\n",
    "    )\n",
    "\n",
    "demo.launch()\n"
   ]
  },
  {
   "cell_type": "code",
   "execution_count": 55,
   "metadata": {},
   "outputs": [
    {
     "name": "stdout",
     "output_type": "stream",
     "text": [
      "Running on local URL:  http://127.0.0.1:7932\n",
      "\n",
      "To create a public link, set `share=True` in `launch()`.\n"
     ]
    },
    {
     "data": {
      "text/html": [
       "<div><iframe src=\"http://127.0.0.1:7932/\" width=\"100%\" height=\"500\" allow=\"autoplay; camera; microphone; clipboard-read; clipboard-write;\" frameborder=\"0\" allowfullscreen></iframe></div>"
      ],
      "text/plain": [
       "<IPython.core.display.HTML object>"
      ]
     },
     "metadata": {},
     "output_type": "display_data"
    }
   ],
   "source": [
    "import gradio as gr\n",
    "\n",
    "\n",
    "def sentence_builder(quantity, animal, countries, place, activity_list, morning):\n",
    "    return f\"\"\"The {quantity} {animal}s from {\" and \".join(countries)} went to the {place} where they {\" and \".join(activity_list)} until the {\"morning\" if morning else \"night\"}\"\"\"\n",
    "\n",
    "\n",
    "demo = gr.Interface(\n",
    "    sentence_builder,\n",
    "    [\n",
    "        gr.Slider(2, 20, value=4, label=\"Count\", info=\"Choose between 2 and 20\"),\n",
    "        gr.Dropdown(\n",
    "            [\"cat\", \"dog\", \"bird\"], label=\"Animal\", info=\"Will add more animals later!\"\n",
    "        ),\n",
    "        gr.CheckboxGroup([\"USA\", \"Japan\", \"Pakistan\"], label=\"Countries\", info=\"Where are they from?\"),\n",
    "        gr.Radio([\"park\", \"zoo\", \"road\"], label=\"Location\", info=\"Where did they go?\"),\n",
    "        gr.Dropdown(\n",
    "            [\"ran\", \"swam\", \"ate\", \"slept\"], value=[\"swam\", \"slept\"], multiselect=True, label=\"Activity\", info=\"Lorem ipsum dolor sit amet, consectetur adipiscing elit. Sed auctor, nisl eget ultricies aliquam, nunc nisl aliquet nunc, eget aliquam nisl nunc vel nisl.\"\n",
    "        ),\n",
    "        gr.Checkbox(label=\"Morning\", info=\"Did they do it in the morning?\"),\n",
    "    ],\n",
    "    \"text\",\n",
    "    examples=[\n",
    "        [2, \"cat\", [\"Japan\", \"Pakistan\"], \"park\", [\"ate\", \"swam\"], True],\n",
    "        [4, \"dog\", [\"Japan\"], \"zoo\", [\"ate\", \"swam\"], False],\n",
    "        [10, \"bird\", [\"USA\", \"Pakistan\"], \"road\", [\"ran\"], False],\n",
    "        [8, \"cat\", [\"Pakistan\"], \"zoo\", [\"ate\"], True],\n",
    "    ]\n",
    ")\n",
    "\n",
    "if __name__ == \"__main__\":\n",
    "    demo.launch()\n",
    "\n"
   ]
  }
 ],
 "metadata": {
  "kernelspec": {
   "display_name": "ai_clssifier",
   "language": "python",
   "name": "python3"
  },
  "language_info": {
   "codemirror_mode": {
    "name": "ipython",
    "version": 3
   },
   "file_extension": ".py",
   "mimetype": "text/x-python",
   "name": "python",
   "nbconvert_exporter": "python",
   "pygments_lexer": "ipython3",
   "version": "3.10.13"
  }
 },
 "nbformat": 4,
 "nbformat_minor": 2
}
