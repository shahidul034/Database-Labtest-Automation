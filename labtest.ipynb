{
 "cells": [
  {
   "cell_type": "code",
   "execution_count": 2,
   "metadata": {},
   "outputs": [],
   "source": [
    "import cx_Oracle\n",
    "import re\n",
    "con = cx_Oracle.connect('ss/ss@localhost')\n",
    "mycursor = con.cursor()\n",
    "Ques=open(\"data/ques.txt\",\"r\").read().split(\"\\n\")\n",
    "temp=open(\"data/radio.txt\",\"r\").read().split(\"\\n\")\n",
    "radio_ques=[]\n",
    "for x in temp:\n",
    "    xx=x.split(\"||\")\n",
    "    radio_ques.append(\n",
    "        {\n",
    "            \"question\":xx[0],\n",
    "            \"mcq\":xx[1].split(\";\"),\n",
    "            \"ans\":xx[2]\n",
    "        }\n",
    "    )\n",
    "def question_show(number):\n",
    "    if number>=(len(Ques)+1) and number<=(len(Ques)+len(temp)):\n",
    "        q_num=number-len(Ques)-1\n",
    "        return {\n",
    "            rad:gr.Radio(radio_ques[q_num][\"mcq\"], label=radio_ques[q_num][\"question\"], visible=True,interactive=True),\n",
    "            out: gr.Textbox(visible=False),\n",
    "            inp:gr.Code(label=\"SQL code\",lines=10,visible=False,interactive=True),\n",
    "            lab: gr.Label(visible=False)\n",
    "        }\n",
    "    return {\n",
    "        rad:gr.Radio(visible=False),\n",
    "        out: gr.Textbox(label=\"Question description\",lines=2,visible=True,value=f\"{Ques[int(number)-1]}\"),\n",
    "        inp:gr.Code(label=\"SQL code\",lines=10,visible=True,interactive=True, value=\"\"),\n",
    "        lab: gr.Label(visible=False)\n",
    "    } \n",
    "    "
   ]
  },
  {
   "cell_type": "code",
   "execution_count": 3,
   "metadata": {},
   "outputs": [
    {
     "name": "stdout",
     "output_type": "stream",
     "text": [
      "SHAKIB\n",
      "SS2\n",
      "SS3\n",
      "SS4\n",
      "['SHAKIB', 'SS2', 'SS3', 'SS4']\n"
     ]
    }
   ],
   "source": [
    "tt_all=mycursor.execute(\"select table_name from user_tables\")\n",
    "li=[]\n",
    "for x in tt_all:\n",
    "    li.append(x[0])\n",
    "    print(x[0])\n",
    "print(li)\n",
    "# for x in li:\n",
    "#     if x!=\"SHAKIB\":\n",
    "#         mycursor.execute(f\"drop table {x}\")"
   ]
  },
  {
   "cell_type": "code",
   "execution_count": null,
   "metadata": {},
   "outputs": [],
   "source": [
    "# t2=mycursor.execute(\"select * from shakib\")\n",
    "# t3=mycursor.execute(\"select * from abtrc\")\n",
    "# xx=[(x[0],x[1]) for x in (t2.description)]\n",
    "# xx2=[(x[0],x[1]) for x in (t3.description)]\n",
    "# xx==xx2"
   ]
  },
  {
   "cell_type": "code",
   "execution_count": 8,
   "metadata": {},
   "outputs": [],
   "source": [
    "def sql_check_fun(sql_code):\n",
    "    try:\n",
    "        mycursor.execute(sql_code)\n",
    "        return True\n",
    "    except:\n",
    "        return False"
   ]
  },
  {
   "cell_type": "code",
   "execution_count": 102,
   "metadata": {},
   "outputs": [
    {
     "data": {
      "text/plain": [
       "False"
      ]
     },
     "execution_count": 102,
     "metadata": {},
     "output_type": "execute_result"
    },
    {
     "name": "stdout",
     "output_type": "stream",
     "text": [
      "34534 3 None alter table dept rename column name to stu_name\n",
      "ch: False\n"
     ]
    }
   ],
   "source": [
    "# sql_check_fun(\"alter table ss3 rename column stu_name to name\")"
   ]
  },
  {
   "cell_type": "code",
   "execution_count": 107,
   "metadata": {},
   "outputs": [
    {
     "data": {
      "text/plain": [
       "[('NAME', <cx_Oracle.DbType DB_TYPE_CHAR>, 1, 1, None, None, 1),\n",
       " ('ROLL', <cx_Oracle.DbType DB_TYPE_NUMBER>, 39, None, 38, 0, 1),\n",
       " ('CGPA', <cx_Oracle.DbType DB_TYPE_NUMBER>, 7, None, 3, 2, 1)]"
      ]
     },
     "execution_count": 107,
     "metadata": {},
     "output_type": "execute_result"
    },
    {
     "name": "stdout",
     "output_type": "stream",
     "text": [
      "243 3 None alter table ss3 rename column name to stu_name\n"
     ]
    }
   ],
   "source": [
    "# mycursor.execute(\"alter table ss3 rename column name to stu_name\")\n",
    "# t=mycursor.execute(\"select * from ss3\")\n",
    "# t.description"
   ]
  },
  {
   "cell_type": "code",
   "execution_count": 56,
   "metadata": {},
   "outputs": [],
   "source": [
    "# sq=\"insert into shakib values('a',12,7.7)\"\n",
    "# xx=([x for x in mycursor.execute(\"select * from shakib\")])[0]\n"
   ]
  },
  {
   "cell_type": "code",
   "execution_count": 63,
   "metadata": {},
   "outputs": [
    {
     "name": "stdout",
     "output_type": "stream",
     "text": [
      "Detected SQL code.\n"
     ]
    }
   ],
   "source": [
    "# import re\n",
    "\n",
    "# def detect_sql_code(sql_query):\n",
    "#     pattern = r'\\bALTER\\s+TABLE\\s+\\w+\\s+RENAME\\s+COLUMN\\s+\\w+\\s+TO\\s+\\w+\\b'\n",
    "#     match = re.search(pattern, sql_query, re.IGNORECASE)\n",
    "#     return match is not None\n",
    "\n"
   ]
  },
  {
   "cell_type": "code",
   "execution_count": 18,
   "metadata": {},
   "outputs": [
    {
     "name": "stdout",
     "output_type": "stream",
     "text": [
      "435345 2 None insert into ss5 values('a',12,7.7)\n",
      "-----------------\n",
      "('a', 12, 7.7) ------- ('a', 12, 7.7)\n",
      "435345 3 None alter table ss4 reame column name to stu_name\n",
      "435345 3 None alter table ss4 rename name to stu_name\n",
      "435345 3 None alter table ss4 rename column st_name to stu_name\n"
     ]
    }
   ],
   "source": [
    "# mycursor.execute(\"delete from ss5 where roll=12\")\n",
    "# t=mycursor.execute(\"select * from ss5\")\n",
    "# for x in t:\n",
    "    # mycursor.execute(f\"delete from ss5 where roll=12\")\n",
    "    # print(x)"
   ]
  },
  {
   "cell_type": "code",
   "execution_count": 4,
   "metadata": {},
   "outputs": [
    {
     "name": "stdout",
     "output_type": "stream",
     "text": [
      "Detected the specified SQL code pattern.\n"
     ]
    }
   ],
   "source": [
    "# import re\n",
    "\n",
    "# def detect_sql_code(sql_statement):\n",
    "#     pattern = r'\\bALTER\\s+TABLE\\s+\\w+\\s+RENAME\\s+COLUMN\\s+\\w+\\s+TO\\s+\\w+\\b'\n",
    "#     if re.match(pattern, sql_statement, re.IGNORECASE):\n",
    "#         return True\n",
    "#     else:\n",
    "#         return False\n",
    "\n",
    "# # Example usage\n",
    "# sql_code = \"alter table dept rename column name to s45s\"\n",
    "# if detect_sql_code(sql_code):\n",
    "#     print(\"Detected the specified SQL code pattern.\")\n",
    "# else:\n",
    "#     print(\"SQL code pattern not detected.\")\n"
   ]
  },
  {
   "cell_type": "code",
   "execution_count": 26,
   "metadata": {},
   "outputs": [
    {
     "data": {
      "text/plain": [
       "['NAME', 'ROLL', 'CGPA']"
      ]
     },
     "execution_count": 26,
     "metadata": {},
     "output_type": "execute_result"
    }
   ],
   "source": [
    "t1=['NAME', 'ROLL', 'CGPA']\n",
    "t2=[(x[0]) for x in ((mycursor.execute(\"select * from shakib\")).description)]\n",
    "t2"
   ]
  },
  {
   "cell_type": "code",
   "execution_count": 13,
   "metadata": {},
   "outputs": [],
   "source": [
    "def answer_check2(roll,number,sql_code):\n",
    "    # ch=sql_check_fun(sql_code)\n",
    "    # print(f\"ch: {ch}\")\n",
    "    # if not ch:\n",
    "            # return False\n",
    "    if number==1:\n",
    "        if not sql_check_fun(sql_code):\n",
    "            return False\n",
    "        pattern = r'create\\s+table\\s+(\\w+)'\n",
    "        match = re.search(pattern, sql_code)\n",
    "        table_name = match.group(1)\n",
    "        t=[(x[0],x[1]) for x in ((mycursor.execute(f\"select * from {table_name}\")).description)]\n",
    "        t2=[(x[0],x[1]) for x in ((mycursor.execute(\"select * from shakib\")).description)]\n",
    "        return t==t2\n",
    "    if number==2:\n",
    "        if not sql_check_fun(sql_code):\n",
    "            return False\n",
    "        table_name=sql_code.split(\" \")[2]\n",
    "        print(\"-----------------\")\n",
    "        t=([x for x in mycursor.execute(\"select * from shakib\")])[0]\n",
    "        t2=([x for x in mycursor.execute(f\"select * from {table_name}\")])[0]\n",
    "        print(t,\"-------\",t2)\n",
    "        return t==t2\n",
    "    if number==3:\n",
    "        # sql_check_fun(sql_code)\n",
    "        # pattern = r'\\balter\\s+table\\s+\\w+\\s+rename\\s+column\\s+\\w+\\s+to\\s+\\w+\\b'\n",
    "        t1=['STU_NAME', 'ROLL', 'CGPA']\n",
    "        pattern = r'alter\\s+table\\s+(\\w+)\\s+rename'\n",
    "        match = re.search(pattern, sql_code, re.IGNORECASE)\n",
    "        table_name = match.group(1)\n",
    "        t2=[(x[0]) for x in ((mycursor.execute(f\"select * from {table_name}\")).description)]\n",
    "        return t1==t2\n",
    "    if number==4:\n",
    "        if not sql_check_fun(sql_code):\n",
    "            return False\n",
    "        pattern = r'\\balter table\\b\\s+\\w+\\s+\\bmodify\\b\\s+\\w+\\s+\\w+\\(\\d+\\)'\n",
    "        return bool(re.search(pattern, sql_code, re.IGNORECASE))\n",
    "\n",
    "    if number==5:\n",
    "        if not sql_check_fun(sql_code):\n",
    "            return False\n",
    "        pattern = re.compile(r'^alter\\s+table\\s+\\w+\\s+add\\s+\\w+\\s+\\w+\\(.*\\)$', re.IGNORECASE)\n",
    "        return bool(pattern.match(sql_code))\n",
    "                \n",
    "    if number==6:\n",
    "        if not sql_check_fun(sql_code):\n",
    "            return False\n",
    "        pattern = r'\\balter\\s+table\\b\\s+[a-z_][a-z0-9_]*\\s+\\bdrop\\s+column\\b\\s+[a-z_][a-z0-9_]*'\n",
    "        match = re.search(pattern, sql_code, re.IGNORECASE)\n",
    "        return match is not None\n",
    "        \n",
    "\n",
    "    \n",
    "def check_duplicate(roll,number):\n",
    "    temp2=open(\"data/result.txt\",\"r\").read().split(\"\\n\")\n",
    "    for x in temp2:\n",
    "        xx=x.split(\";\")\n",
    "        if str(roll)==str(xx[0]) and str(number)==str(xx[1]):\n",
    "            return True\n",
    "    return False\n"
   ]
  },
  {
   "cell_type": "code",
   "execution_count": 14,
   "metadata": {},
   "outputs": [],
   "source": [
    "def answer_check(roll,number,rad,inp):\n",
    "    print(roll,number,rad,inp)\n",
    "    if check_duplicate(roll,number):\n",
    "        return {\n",
    "                lab: gr.Label(visible=True,elem_id=\"already\",value=\"Already submitted or accepted!!!\")\n",
    "            }\n",
    "    result=open(\"data/result.txt\",\"a\")\n",
    "    if number>=(len(Ques)+1) and number<=(len(Ques)+len(temp)):\n",
    "        q_num=number-len(Ques)-1\n",
    "        if radio_ques[q_num][\"ans\"]==rad:\n",
    "            st=f\"{roll};{number};AC\\n\"\n",
    "            result.write(st)\n",
    "            return {\n",
    "                lab: gr.Label(visible=True,elem_id=\"accepted\",value=\"Submitted\")\n",
    "            }\n",
    "        else:\n",
    "            st=f\"{roll};{number};NAC\\n\"\n",
    "            result.write(st)\n",
    "            return {\n",
    "                lab: gr.Label(visible=True,elem_id=\"accepted\",value=\"Submitted\")\n",
    "            }\n",
    "       \n",
    "        \n",
    "    else:\n",
    "        sql_check=answer_check2(roll,number,inp)\n",
    "        if sql_check:\n",
    "            st=f\"{roll};{number};AC\\n\"\n",
    "            result.write(st)\n",
    "            return {\n",
    "                lab: gr.Label(visible=True,elem_id=\"accepted\",value=\"Accepted\")\n",
    "            }\n",
    "        else:\n",
    "            return {\n",
    "                lab: gr.Label(visible=True,elem_id=\"wrong\",value=\"Wrong\")\n",
    "            }\n",
    "    result.close()\n",
    "        \n",
    "\n",
    "\n",
    "\n",
    "    "
   ]
  },
  {
   "cell_type": "code",
   "execution_count": 15,
   "metadata": {},
   "outputs": [
    {
     "name": "stdout",
     "output_type": "stream",
     "text": [
      "Running on local URL:  http://127.0.0.1:7863\n",
      "\n",
      "To create a public link, set `share=True` in `launch()`.\n"
     ]
    },
    {
     "data": {
      "text/html": [
       "<div><iframe src=\"http://127.0.0.1:7863/\" width=\"100%\" height=\"500\" allow=\"autoplay; camera; microphone; clipboard-read; clipboard-write;\" frameborder=\"0\" allowfullscreen></iframe></div>"
      ],
      "text/plain": [
       "<IPython.core.display.HTML object>"
      ]
     },
     "metadata": {},
     "output_type": "display_data"
    },
    {
     "data": {
      "text/plain": []
     },
     "execution_count": 15,
     "metadata": {},
     "output_type": "execute_result"
    },
    {
     "name": "stdout",
     "output_type": "stream",
     "text": [
      "435345 2 None insert into ss5 values('a',12,7.7)\n",
      "-----------------\n",
      "('a', 12, 7.7) ------- ('b', 12, 7.7)\n"
     ]
    }
   ],
   "source": [
    "import gradio as gr\n",
    "css = \"\"\"\n",
    "#accepted {background-color: green;align-content: center;font: 30px Arial, sans-serif;}\n",
    "#wrong {background-color: red;align-content: center;font: 30px Arial, sans-serif;}\n",
    "#already {background-color: blue;align-content: center;font: 30px Arial, sans-serif;}\n",
    "\"\"\"\n",
    "with gr.Blocks(css=css) as demo:\n",
    "    gr.Markdown(\n",
    "    \"\"\"\n",
    "    # Database Quiz and Lab test\n",
    "    Disclaimer: It is beta version. Maybe it has some bugs. Please inform me if you find any bugs. (Shakib)\n",
    "    \"\"\")\n",
    "    with gr.Row():\n",
    "        roll = gr.Number(label=\"Roll number\")\n",
    "    with gr.Row():\n",
    "        ques_show=gr.Dropdown(\n",
    "            [x+1 for x in range(len(Ques)+len(temp))], label=\"Question number\", info=\"Enter your question number\")\n",
    "    with gr.Row():\n",
    "        out = gr.Textbox(label=\"Question description\",lines=1,visible=False)\n",
    "    with gr.Row():\n",
    "        inp=gr.Code(label=\"SQL code(Use small letter for variable only)\",lines=10,visible=False)\n",
    "        rad=gr.Radio(visible=False)\n",
    "    with gr.Row():    \n",
    "        button = gr.Button(\"Submit\")\n",
    "        lab=gr.Label(visible=False)\n",
    "        ques_show.change(question_show, ques_show, [rad,out,inp,lab])\n",
    "    button.click(answer_check,[roll,ques_show,rad,inp],lab)\n",
    "\n",
    "demo.launch()"
   ]
  },
  {
   "cell_type": "code",
   "execution_count": null,
   "metadata": {},
   "outputs": [],
   "source": [
    "import gradio as gr\n",
    "\n",
    "with gr.Blocks() as demo:\n",
    "    error_box = gr.Textbox(label=\"Error\", visible=False)\n",
    "\n",
    "    name_box = gr.Textbox(label=\"Name\")\n",
    "    age_box = gr.Number(label=\"Age\", minimum=0, maximum=100)\n",
    "    symptoms_box = gr.CheckboxGroup([\"Cough\", \"Fever\", \"Runny Nose\"])\n",
    "    radio=gr.Radio([\"park\", \"zoo\", \"road\"], label=\"Location\", info=\"Where did they go?\",visible=False),\n",
    "    submit_btn = gr.Button(\"Submit\")\n",
    "\n",
    "    with gr.Column(visible=False) as output_col:\n",
    "        diagnosis_box = gr.Textbox(label=\"Diagnosis\")\n",
    "        patient_summary_box = gr.Textbox(label=\"Patient Summary\")\n",
    "\n",
    "    def submit(name, age, symptoms):\n",
    "        if len(name) == 0:\n",
    "            return {error_box: gr.Textbox(value=\"Enter name\", visible=True)}\n",
    "        return {\n",
    "            output_col: gr.Column(visible=True),\n",
    "            diagnosis_box: \"covid\" if \"Cough\" in symptoms else \"flu\",\n",
    "            patient_summary_box: f\"{name}, {age} y/o\",\n",
    "        }\n",
    "\n",
    "    submit_btn.click(\n",
    "        submit,\n",
    "        [name_box, age_box, symptoms_box],\n",
    "        [error_box, diagnosis_box, patient_summary_box, output_col],\n",
    "    )\n",
    "\n",
    "demo.launch()\n"
   ]
  },
  {
   "cell_type": "code",
   "execution_count": null,
   "metadata": {},
   "outputs": [],
   "source": [
    "import gradio as gr\n",
    "\n",
    "\n",
    "def sentence_builder(quantity, animal, countries, place, activity_list, morning):\n",
    "    return f\"\"\"The {quantity} {animal}s from {\" and \".join(countries)} went to the {place} where they {\" and \".join(activity_list)} until the {\"morning\" if morning else \"night\"}\"\"\"\n",
    "\n",
    "\n",
    "demo = gr.Interface(\n",
    "    sentence_builder,\n",
    "    [\n",
    "        gr.Slider(2, 20, value=4, label=\"Count\", info=\"Choose between 2 and 20\"),\n",
    "        gr.Dropdown(\n",
    "            [\"cat\", \"dog\", \"bird\"], label=\"Animal\", info=\"Will add more animals later!\"\n",
    "        ),\n",
    "        gr.CheckboxGroup([\"USA\", \"Japan\", \"Pakistan\"], label=\"Countries\", info=\"Where are they from?\"),\n",
    "        gr.Radio([\"park\", \"zoo\", \"road\"], label=\"Location\", info=\"Where did they go?\"),\n",
    "        gr.Dropdown(\n",
    "            [\"ran\", \"swam\", \"ate\", \"slept\"], value=[\"swam\", \"slept\"], multiselect=True, label=\"Activity\", info=\"Lorem ipsum dolor sit amet, consectetur adipiscing elit. Sed auctor, nisl eget ultricies aliquam, nunc nisl aliquet nunc, eget aliquam nisl nunc vel nisl.\"\n",
    "        ),\n",
    "        gr.Checkbox(label=\"Morning\", info=\"Did they do it in the morning?\"),\n",
    "    ],\n",
    "    \"text\",\n",
    "    examples=[\n",
    "        [2, \"cat\", [\"Japan\", \"Pakistan\"], \"park\", [\"ate\", \"swam\"], True],\n",
    "        [4, \"dog\", [\"Japan\"], \"zoo\", [\"ate\", \"swam\"], False],\n",
    "        [10, \"bird\", [\"USA\", \"Pakistan\"], \"road\", [\"ran\"], False],\n",
    "        [8, \"cat\", [\"Pakistan\"], \"zoo\", [\"ate\"], True],\n",
    "    ]\n",
    ")\n",
    "\n",
    "if __name__ == \"__main__\":\n",
    "    demo.launch()\n",
    "\n"
   ]
  }
 ],
 "metadata": {
  "kernelspec": {
   "display_name": "ai_clssifier",
   "language": "python",
   "name": "python3"
  },
  "language_info": {
   "codemirror_mode": {
    "name": "ipython",
    "version": 3
   },
   "file_extension": ".py",
   "mimetype": "text/x-python",
   "name": "python",
   "nbconvert_exporter": "python",
   "pygments_lexer": "ipython3",
   "version": "3.10.13"
  }
 },
 "nbformat": 4,
 "nbformat_minor": 2
}
